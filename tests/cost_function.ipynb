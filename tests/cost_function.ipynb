{
 "cells": [
  {
   "cell_type": "code",
   "execution_count": 1,
   "metadata": {},
   "outputs": [
    {
     "name": "stderr",
     "output_type": "stream",
     "text": [
      "/Users/jcheng/opt/anaconda3/lib/python3.8/site-packages/setuptools/distutils_patch.py:25: UserWarning: Distutils was imported before Setuptools. This usage is discouraged and may exhibit undesirable behaviors or errors. Please use Setuptools' objects directly or at least import Setuptools first.\n",
      "  warnings.warn(\n"
     ]
    },
    {
     "name": "stdout",
     "output_type": "stream",
     "text": [
      "cpu\n"
     ]
    }
   ],
   "source": [
    "import os, sys\n",
    "sys.path.append('../')\n",
    "os.environ['KMP_DUPLICATE_LIB_OK']='True'\n",
    "\n",
    "import torch\n",
    "import torchvision\n",
    "import torchvision.transforms as transforms\n",
    "from datasets.coco import CocoDataset\n",
    "from utils.transforms import PhotometricDistort, Flip, Zoomout, \\\n",
    "                             ImageToTensor, CategoryToTensor, \\\n",
    "                             BoxToTensor, Resize, Normalize, \\\n",
    "                             CocoBoxToFracBoundaryBox, AssignObjToPbox\n",
    "from functools import partial\n",
    "import torch.nn as nn\n",
    "import torch.nn.functional as F\n",
    "from model.detector import SSD300\n",
    "from loss.multibox import Loss\n",
    "from torch.utils.tensorboard import SummaryWriter\n",
    "\n",
    "DEVICE = 'cpu' if torch.cuda.device_count() == 0 else 'cuda:0'\n",
    "print(DEVICE)"
   ]
  },
  {
   "cell_type": "code",
   "execution_count": 2,
   "metadata": {},
   "outputs": [],
   "source": [
    "# initialize network \n",
    "N_CLASSES = 81\n",
    "ssd = SSD300(n_classes=N_CLASSES, device=DEVICE)"
   ]
  },
  {
   "cell_type": "code",
   "execution_count": 3,
   "metadata": {},
   "outputs": [
    {
     "name": "stdout",
     "output_type": "stream",
     "text": [
      "loading annotations into memory...\n",
      "Done (t=0.00s)\n",
      "creating index...\n",
      "index created!\n"
     ]
    }
   ],
   "source": [
    "# transforms\n",
    "IMG_SZ = 300\n",
    "\n",
    "distort_tfms  = [PhotometricDistort(0.5),\n",
    "                 Flip(0.5)]\n",
    "zoom_tfms     = [Zoomout(0.2, max_scale=2.5)]\n",
    "toTensor_tfms = [ImageToTensor(), \n",
    "                 CategoryToTensor(), \n",
    "                 BoxToTensor()]\n",
    "resize_tfms   = [Resize((IMG_SZ, IMG_SZ))]\n",
    "target_tfms   = [CocoBoxToFracBoundaryBox(),\n",
    "                 AssignObjToPbox(pboxes=ssd.pboxes, threshold=0.5)]\n",
    "imgNorm_tfms  = [Normalize()]\n",
    "\n",
    "tfms = transforms.Compose(distort_tfms + toTensor_tfms + zoom_tfms + imgNorm_tfms + resize_tfms + target_tfms)\n",
    "\n",
    "# create dataset & dataloader\n",
    "ds = CocoDataset('../datasets/', 'samples', 'instances', transforms=tfms)\n",
    "assert ssd.n_classes == len(ds.id2cat.keys()), \"# of class mismatch between dataset and ssd\"\n",
    "dl = torch.utils.data.DataLoader(ds, batch_size=4, shuffle=True, num_workers=2,\n",
    "                                 collate_fn=partial(ds.collate_fn, img_resized=True))\n",
    "\n",
    "# create tensorboard summary writer\n",
    "writer = SummaryWriter('runs/vgg_base')"
   ]
  },
  {
   "cell_type": "code",
   "execution_count": 4,
   "metadata": {},
   "outputs": [],
   "source": [
    "# loss function\n",
    "loss = Loss(neg_pos_ratio=3, \n",
    "            alpha=1.,\n",
    "            device=DEVICE)"
   ]
  },
  {
   "cell_type": "code",
   "execution_count": 5,
   "metadata": {},
   "outputs": [],
   "source": [
    "# get trainable biases and params\n",
    "trainable_biases = list()\n",
    "trainable_params = list()\n",
    "for name, param in ssd.named_parameters():\n",
    "    if param.requires_grad:\n",
    "        if name.endswith('.bias'): trainable_biases.append(param)\n",
    "        else: trainable_params.append(param)"
   ]
  },
  {
   "cell_type": "code",
   "execution_count": 6,
   "metadata": {},
   "outputs": [],
   "source": [
    "MOMENTUM = 0.9\n",
    "WEIGHT_DECAY = 5e-4\n",
    "# init optimizer\n",
    "opt = torch.optim.SGD(params=[{'params': trainable_biases}, \n",
    "                              {'params': trainable_params}],\n",
    "                      lr=1e-3, momentum=MOMENTUM, weight_decay=WEIGHT_DECAY)"
   ]
  },
  {
   "cell_type": "code",
   "execution_count": 7,
   "metadata": {},
   "outputs": [
    {
     "name": "stderr",
     "output_type": "stream",
     "text": [
      "/Users/jcheng/opt/anaconda3/lib/python3.8/site-packages/torch/nn/functional.py:718: UserWarning: Named tensors and all their associated APIs are an experimental feature and subject to change. Please do not use them for anything important until they are released as stable. (Triggered internally at  ../c10/core/TensorImpl.h:1156.)\n",
      "  return torch.max_pool2d(input, kernel_size, stride, padding, dilation, ceil_mode)\n"
     ]
    },
    {
     "name": "stdout",
     "output_type": "stream",
     "text": [
      "batch 0 completed\n",
      "batch 1 completed\n",
      "batch 2 completed\n"
     ]
    }
   ],
   "source": [
    "# test 1 batch of forward and backprop\n",
    "for i, batch in enumerate(dl):\n",
    "    # zero grads\n",
    "    opt.zero_grad()    \n",
    "    # forward pass\n",
    "    images = batch['images']\n",
    "    pred_boxes, pred_scores = ssd(images)\n",
    "    # compute loss\n",
    "    true_locs, true_cls = batch['pbox_offsets'], batch['pbox_classes']\n",
    "    cost = loss(pred_boxes, pred_scores, true_locs, true_cls)\n",
    "    # back prop\n",
    "    cost.backward()\n",
    "    # update\n",
    "    opt.step()\n",
    "    print(f'batch {i} completed')"
   ]
  },
  {
   "cell_type": "code",
   "execution_count": null,
   "metadata": {},
   "outputs": [],
   "source": []
  }
 ],
 "metadata": {
  "kernelspec": {
   "display_name": "Python 3",
   "language": "python",
   "name": "python3"
  },
  "language_info": {
   "codemirror_mode": {
    "name": "ipython",
    "version": 3
   },
   "file_extension": ".py",
   "mimetype": "text/x-python",
   "name": "python",
   "nbconvert_exporter": "python",
   "pygments_lexer": "ipython3",
   "version": "3.8.3"
  }
 },
 "nbformat": 4,
 "nbformat_minor": 5
}
